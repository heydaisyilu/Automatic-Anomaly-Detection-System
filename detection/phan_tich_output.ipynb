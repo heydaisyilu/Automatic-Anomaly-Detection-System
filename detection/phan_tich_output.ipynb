{
 "cells": [
  {
   "cell_type": "code",
   "execution_count": 1,
   "id": "6b3dbeda",
   "metadata": {
    "execution": {
     "iopub.execute_input": "2025-08-21T15:29:43.420714Z",
     "iopub.status.busy": "2025-08-21T15:29:43.420435Z",
     "iopub.status.idle": "2025-08-21T15:29:53.148445Z",
     "shell.execute_reply": "2025-08-21T15:29:53.147773Z"
    }
   },
   "outputs": [
    {
     "name": "stdout",
     "output_type": "stream",
     "text": [
      "[i] DATA_DIR    = /home/runner/work/Automatic-Anomaly-Detection-System/Automatic-Anomaly-Detection-System/data\n",
      "[i] SUMMARY_DIR = /home/runner/work/Automatic-Anomaly-Detection-System/Automatic-Anomaly-Detection-System/result_summary\n",
      "[i] PLOTS_DIR   = /home/runner/work/Automatic-Anomaly-Detection-System/Automatic-Anomaly-Detection-System/out/plots\n"
     ]
    },
    {
     "name": "stdout",
     "output_type": "stream",
     "text": [
      "[i] HAS_WIND=True, HAS_HUM=True, HAS_WEATHER_ICON=True\n"
     ]
    },
    {
     "name": "stderr",
     "output_type": "stream",
     "text": [
      "/tmp/ipykernel_2148/386638321.py:96: UserWarning: Converting to PeriodArray/Index representation will drop timezone information.\n",
      "  df_full[\"month\"] = df_full[\"timestamp\"].dt.to_period(\"M\").astype(str)\n"
     ]
    },
    {
     "name": "stdout",
     "output_type": "stream",
     "text": [
      "[✓] Ghi dữ liệu gộp: /home/runner/work/Automatic-Anomaly-Detection-System/Automatic-Anomaly-Detection-System/result_summary/all_aqi_raw_full.csv\n"
     ]
    }
   ],
   "source": [
    "# BOOTSTRAP: luôn tự cấp dữ liệu cho GH Actions\n",
    "from pathlib import Path\n",
    "import pandas as pd\n",
    "import numpy as np\n",
    "import matplotlib\n",
    "matplotlib.use(\"Agg\")  # An toàn trên runner headless\n",
    "import matplotlib.pyplot as plt\n",
    "\n",
    "# Đường dẫn\n",
    "DATA_DIR = Path(\"../data\").resolve()\n",
    "OUT_SUMMARY_DIR = Path(\"../result_summary\").resolve()\n",
    "OUT_PLOTS_DIR   = Path(\"../out/plots\").resolve()\n",
    "OUT_SUMMARY_DIR.mkdir(parents=True, exist_ok=True)\n",
    "OUT_PLOTS_DIR.mkdir(parents=True, exist_ok=True)\n",
    "\n",
    "print(f\"[i] DATA_DIR    = {DATA_DIR}\")\n",
    "print(f\"[i] SUMMARY_DIR = {OUT_SUMMARY_DIR}\")\n",
    "print(f\"[i] PLOTS_DIR   = {OUT_PLOTS_DIR}\")\n",
    "\n",
    "def parse_wind_speed(s):\n",
    "    if pd.isna(s): return np.nan\n",
    "    s = str(s).strip().replace(\",\", \".\")\n",
    "    # Bỏ mọi ký tự không phải số/âm/chấm (loại ' km/h')\n",
    "    s = pd.Series([s]).str.replace(r\"[^0-9\\.\\-]\", \"\", regex=True).iloc[0]\n",
    "    try: return float(s)\n",
    "    except: return np.nan\n",
    "\n",
    "def parse_humidity(s):\n",
    "    if pd.isna(s): return np.nan\n",
    "    s = str(s).strip().replace(\"%\",\"\").replace(\",\", \".\")\n",
    "    try: return float(s)\n",
    "    except: return np.nan\n",
    "\n",
    "def map_weather_icon(icon_path: str) -> str:\n",
    "    if pd.isna(icon_path):\n",
    "        return \"Unknown\"\n",
    "    p = str(icon_path).lower()\n",
    "    if \"rain\" in p:     return \"Mưa\"\n",
    "    if \"cloud\" in p:    return \"Mây\"\n",
    "    if \"sun\" in p or \"clear\" in p: return \"Nắng\"\n",
    "    if \"fog\" in p or \"mist\" in p:  return \"Sương mù\"\n",
    "    if \"storm\" in p or \"thunder\" in p: return \"Dông bão\"\n",
    "    if \"snow\" in p:     return \"Tuyết\"\n",
    "    return \"Khác\"\n",
    "\n",
    "# Load đủ cột để mọi phân tích đều dùng được\n",
    "def load_all_cities_full(root: Path) -> pd.DataFrame:\n",
    "    if not root.exists():\n",
    "        raise FileNotFoundError(f\"Không thấy thư mục dữ liệu: {root}\")\n",
    "    dfs = []\n",
    "    for city_dir in sorted([p for p in root.iterdir() if p.is_dir()]):\n",
    "        for f in sorted(city_dir.glob(\"*.csv\")):\n",
    "            try:\n",
    "                df = pd.read_csv(f)\n",
    "            except Exception as e:\n",
    "                print(f\"[!] Lỗi đọc {f}: {e}\")\n",
    "                continue\n",
    "\n",
    "            if \"AQI\" in df.columns and \"aqi\" not in df.columns:\n",
    "                df.rename(columns={\"AQI\":\"aqi\"}, inplace=True)\n",
    "\n",
    "            # Đảm bảo tối thiểu 3 cột này tồn tại\n",
    "            if \"timestamp\" in df.columns:\n",
    "                df[\"timestamp\"] = pd.to_datetime(df[\"timestamp\"], errors=\"coerce\")\n",
    "            else:\n",
    "                continue\n",
    "            if \"aqi\" in df.columns:\n",
    "                df[\"aqi\"] = pd.to_numeric(df[\"aqi\"], errors=\"coerce\")\n",
    "            else:\n",
    "                continue\n",
    "            if \"city\" not in df.columns:\n",
    "                df[\"city\"] = city_dir.name\n",
    "\n",
    "            keep = [c for c in [\"timestamp\",\"city\",\"aqi\",\"wind_speed\",\"humidity\",\"weather_icon\"] if c in df.columns]\n",
    "            df = df[keep].dropna(subset=[\"timestamp\",\"aqi\"])\n",
    "            if not df.empty:\n",
    "                dfs.append(df)\n",
    "\n",
    "    if not dfs:\n",
    "        raise RuntimeError(\"Không tìm thấy dữ liệu hợp lệ trong data/*/*.csv\")\n",
    "    out = pd.concat(dfs, ignore_index=True)\n",
    "\n",
    "    # Số hoá wind/humidity\n",
    "    out[\"wind_speed_num\"] = out[\"wind_speed\"].apply(parse_wind_speed) if \"wind_speed\" in out.columns else np.nan\n",
    "    out[\"humidity_num\"]   = out[\"humidity\"].apply(parse_humidity)     if \"humidity\"   in out.columns else np.nan\n",
    "\n",
    "    global HAS_WIND, HAS_HUM, HAS_WEATHER_ICON\n",
    "    HAS_WIND = pd.notna(out[\"wind_speed_num\"]).any()\n",
    "    HAS_HUM  = pd.notna(out[\"humidity_num\"]).any()\n",
    "    HAS_WEATHER_ICON = \"weather_icon\" in out.columns and out[\"weather_icon\"].notna().any()\n",
    "\n",
    "    print(f\"[i] HAS_WIND={HAS_WIND}, HAS_HUM={HAS_HUM}, HAS_WEATHER_ICON={HAS_WEATHER_ICON}\")\n",
    "    return out\n",
    "\n",
    "df_full = load_all_cities_full(DATA_DIR)\n",
    "df_full[\"month\"] = df_full[\"timestamp\"].dt.to_period(\"M\").astype(str)\n",
    "df_full[\"hour\"]  = df_full[\"timestamp\"].dt.hour\n",
    "\n",
    "# Lưu raw hợp nhất (tuỳ chọn)\n",
    "RAW_OUT = OUT_SUMMARY_DIR / \"all_aqi_raw_full.csv\"\n",
    "df_full.to_csv(RAW_OUT, index=False, encoding=\"utf-8-sig\")\n",
    "print(f\"[✓] Ghi dữ liệu gộp: {RAW_OUT}\")"
   ]
  },
  {
   "cell_type": "markdown",
   "id": "2f5c1a89",
   "metadata": {},
   "source": [
    "# 1. PHÂN TÍCH BIẾN ĐỘNG CHẤT LƯỢNG KHÔNG KHÍ THEO THỜI GIAN"
   ]
  },
  {
   "cell_type": "code",
   "execution_count": 2,
   "id": "d948fa16",
   "metadata": {
    "execution": {
     "iopub.execute_input": "2025-08-21T15:29:53.150631Z",
     "iopub.status.busy": "2025-08-21T15:29:53.150423Z",
     "iopub.status.idle": "2025-08-21T15:29:54.043275Z",
     "shell.execute_reply": "2025-08-21T15:29:54.042636Z"
    }
   },
   "outputs": [
    {
     "name": "stdout",
     "output_type": "stream",
     "text": [
      "[✓] Ghi: /home/runner/work/Automatic-Anomaly-Detection-System/Automatic-Anomaly-Detection-System/result_summary/aqi_monthly_summary.csv\n"
     ]
    },
    {
     "name": "stdout",
     "output_type": "stream",
     "text": [
      "[✓] Vẽ: /home/runner/work/Automatic-Anomaly-Detection-System/Automatic-Anomaly-Detection-System/out/plots/trend_mean_all_cities.png\n",
      "[✓] Ghi: /home/runner/work/Automatic-Anomaly-Detection-System/Automatic-Anomaly-Detection-System/result_summary/aqi_hourly_summary.csv\n"
     ]
    },
    {
     "name": "stdout",
     "output_type": "stream",
     "text": [
      "[✓] Vẽ: /home/runner/work/Automatic-Anomaly-Detection-System/Automatic-Anomaly-Detection-System/out/plots/hourly_mean_all_cities.png\n",
      "[✓] Ghi: /home/runner/work/Automatic-Anomaly-Detection-System/Automatic-Anomaly-Detection-System/result_summary/aqi_distribution_by_city.csv\n"
     ]
    },
    {
     "name": "stdout",
     "output_type": "stream",
     "text": [
      "[✓] Vẽ: /home/runner/work/Automatic-Anomaly-Detection-System/Automatic-Anomaly-Detection-System/out/plots/distribution_aqi_by_city.png\n"
     ]
    }
   ],
   "source": [
    "# 1.1. Trung bình AQI theo tháng (so sánh tất cả tỉnh)\n",
    "monthly = (\n",
    "    df_full.groupby([\"city\",\"month\"])[\"aqi\"]\n",
    "           .agg(mean_aqi=\"mean\", max_aqi=\"max\", min_aqi=\"min\", n_obs=\"size\")\n",
    "           .reset_index()\n",
    "           .sort_values([\"city\",\"month\"])\n",
    ")\n",
    "monthly[\"mean_aqi\"] = monthly[\"mean_aqi\"].round(2)\n",
    "monthly_path = OUT_SUMMARY_DIR / \"aqi_monthly_summary.csv\"\n",
    "monthly.to_csv(monthly_path, index=False, encoding=\"utf-8-sig\")\n",
    "print(\"[✓] Ghi:\", monthly_path)\n",
    "\n",
    "# Vẽ line gộp mean_aqi\n",
    "pivot_m = monthly.pivot(index=\"month\", columns=\"city\", values=\"mean_aqi\").sort_index()\n",
    "plt.figure(figsize=(12,5))\n",
    "pivot_m.plot(marker=\"o\")\n",
    "plt.title(\"Xu hướng AQI trung bình theo tháng (tất cả tỉnh)\")\n",
    "plt.xlabel(\"Tháng (YYYY-MM)\")\n",
    "plt.ylabel(\"AQI trung bình\")\n",
    "plt.xticks(rotation=45, ha=\"right\")\n",
    "plt.tight_layout()\n",
    "out_m = OUT_PLOTS_DIR / \"trend_mean_all_cities.png\"\n",
    "plt.savefig(out_m, dpi=150); plt.close()\n",
    "print(\"[✓] Vẽ:\", out_m)\n",
    "\n",
    "# 1.2. Trung bình AQI theo giờ (so sánh tất cả tỉnh)\n",
    "hourly = (\n",
    "    df_full.groupby([\"city\",\"hour\"])[\"aqi\"]\n",
    "           .mean()\n",
    "           .reset_index()\n",
    "           .rename(columns={\"aqi\":\"mean_aqi\"})\n",
    "           .sort_values([\"city\",\"hour\"])\n",
    ")\n",
    "hourly[\"mean_aqi\"] = hourly[\"mean_aqi\"].round(2)\n",
    "hourly_path = OUT_SUMMARY_DIR / \"aqi_hourly_summary.csv\"\n",
    "hourly.to_csv(hourly_path, index=False, encoding=\"utf-8-sig\")\n",
    "print(\"[✓] Ghi:\", hourly_path)\n",
    "\n",
    "pivot_h = hourly.pivot(index=\"hour\", columns=\"city\", values=\"mean_aqi\").sort_index()\n",
    "plt.figure(figsize=(12,5))\n",
    "pivot_h.plot(marker=\"o\")\n",
    "plt.title(\"Trung bình AQI theo giờ (tất cả tỉnh)\")\n",
    "plt.xlabel(\"Giờ (0–23)\")\n",
    "plt.ylabel(\"AQI trung bình\")\n",
    "plt.xticks(range(0,24))\n",
    "plt.grid(True, linestyle=\"--\", alpha=0.4)\n",
    "plt.tight_layout()\n",
    "out_h = OUT_PLOTS_DIR / \"hourly_mean_all_cities.png\"\n",
    "plt.savefig(out_h, dpi=150); plt.close()\n",
    "print(\"[✓] Vẽ:\", out_h)\n",
    "\n",
    "# 1.3. Phân bố mức chất lượng không khí theo tỉnh/thành\n",
    "def categorize_aqi(aqi):\n",
    "    if aqi <= 50:   return \"Tốt (0-50)\"\n",
    "    if aqi <= 100:  return \"Trung bình (51-100)\"\n",
    "    if aqi <= 150:  return \"Kém (101-150)\"\n",
    "    if aqi <= 200:  return \"Xấu (151-200)\"\n",
    "    if aqi <= 300:  return \"Rất xấu (201-300)\"\n",
    "    return \"Nguy hại (301+)\"\n",
    "\n",
    "dist_df = df_full.copy()\n",
    "dist_df[\"AQI_level\"] = pd.to_numeric(dist_df[\"aqi\"], errors=\"coerce\").apply(categorize_aqi)\n",
    "distribution = (dist_df.groupby([\"city\",\"AQI_level\"], as_index=False)\n",
    "                        .size()\n",
    "                        .rename(columns={\"size\":\"count\"}))\n",
    "distribution[\"percent\"] = (distribution[\"count\"] /\n",
    "                           distribution.groupby(\"city\")[\"count\"].transform(\"sum\") * 100).round(2)\n",
    "dist_path = OUT_SUMMARY_DIR / \"aqi_distribution_by_city.csv\"\n",
    "distribution.to_csv(dist_path, index=False, encoding=\"utf-8-sig\")\n",
    "print(\"[✓] Ghi:\", dist_path)\n",
    "\n",
    "# Vẽ stacked bar %\n",
    "order_levels = [\"Tốt (0-50)\",\"Trung bình (51-100)\",\"Kém (101-150)\",\n",
    "                \"Xấu (151-200)\",\"Rất xấu (201-300)\",\"Nguy hại (301+)\"]\n",
    "distribution[\"AQI_level\"] = pd.Categorical(distribution[\"AQI_level\"], order_levels, ordered=True)\n",
    "pivot_pct = distribution.pivot(index=\"city\", columns=\"AQI_level\", values=\"percent\").fillna(0)\n",
    "\n",
    "plt.figure(figsize=(12,6))\n",
    "bottom = np.zeros(len(pivot_pct))\n",
    "for lvl in order_levels:\n",
    "    vals = pivot_pct[lvl].values if lvl in pivot_pct.columns else np.zeros(len(pivot_pct))\n",
    "    plt.bar(pivot_pct.index, vals, bottom=bottom, label=lvl)\n",
    "    bottom = bottom + vals\n",
    "plt.title(\"Phân bố mức chất lượng không khí (AQI) theo tỉnh/thành phố\")\n",
    "plt.ylabel(\"Tỷ lệ (%)\"); plt.xlabel(\"Tỉnh/Thành phố\")\n",
    "plt.xticks(rotation=30, ha=\"right\")\n",
    "plt.legend(title=\"Mức AQI\", bbox_to_anchor=(1.02,1), loc=\"upper left\")\n",
    "plt.tight_layout()\n",
    "out_dist = OUT_PLOTS_DIR / \"distribution_aqi_by_city.png\"\n",
    "plt.savefig(out_dist, dpi=150); plt.close()\n",
    "print(\"[✓] Vẽ:\", out_dist)"
   ]
  },
  {
   "cell_type": "markdown",
   "id": "c08e602e",
   "metadata": {},
   "source": [
    "# 2. MỐI QUAN HỆ GIỮA AQI VÀ CÁC YẾU TỐ THỜI TIẾT"
   ]
  },
  {
   "cell_type": "code",
   "execution_count": 3,
   "id": "2e771a2f",
   "metadata": {
    "execution": {
     "iopub.execute_input": "2025-08-21T15:29:54.045412Z",
     "iopub.status.busy": "2025-08-21T15:29:54.045205Z",
     "iopub.status.idle": "2025-08-21T15:29:58.107064Z",
     "shell.execute_reply": "2025-08-21T15:29:58.106311Z"
    }
   },
   "outputs": [
    {
     "name": "stdout",
     "output_type": "stream",
     "text": [
      "[✓] Ghi: /home/runner/work/Automatic-Anomaly-Detection-System/Automatic-Anomaly-Detection-System/result_summary/aqi_vs_windspeed_correlation.csv\n"
     ]
    },
    {
     "name": "stdout",
     "output_type": "stream",
     "text": [
      "[✓] Vẽ: /home/runner/work/Automatic-Anomaly-Detection-System/Automatic-Anomaly-Detection-System/out/plots/scatter_aqi_vs_windspeed_ALL.png\n",
      "[✓] Vẽ: /home/runner/work/Automatic-Anomaly-Detection-System/Automatic-Anomaly-Detection-System/out/plots/scatter_aqi_vs_windspeed_Cần Thơ.png\n"
     ]
    },
    {
     "name": "stdout",
     "output_type": "stream",
     "text": [
      "[✓] Vẽ: /home/runner/work/Automatic-Anomaly-Detection-System/Automatic-Anomaly-Detection-System/out/plots/scatter_aqi_vs_windspeed_Huế.png\n",
      "[✓] Vẽ: /home/runner/work/Automatic-Anomaly-Detection-System/Automatic-Anomaly-Detection-System/out/plots/scatter_aqi_vs_windspeed_Hà Nội.png\n"
     ]
    },
    {
     "name": "stdout",
     "output_type": "stream",
     "text": [
      "[✓] Vẽ: /home/runner/work/Automatic-Anomaly-Detection-System/Automatic-Anomaly-Detection-System/out/plots/scatter_aqi_vs_windspeed_Hải Phòng.png\n",
      "[✓] Vẽ: /home/runner/work/Automatic-Anomaly-Detection-System/Automatic-Anomaly-Detection-System/out/plots/scatter_aqi_vs_windspeed_Hồ Chí Minh.png\n"
     ]
    },
    {
     "name": "stdout",
     "output_type": "stream",
     "text": [
      "[✓] Vẽ: /home/runner/work/Automatic-Anomaly-Detection-System/Automatic-Anomaly-Detection-System/out/plots/scatter_aqi_vs_windspeed_Nha Trang.png\n",
      "[✓] Vẽ: /home/runner/work/Automatic-Anomaly-Detection-System/Automatic-Anomaly-Detection-System/out/plots/scatter_aqi_vs_windspeed_Vinh.png\n"
     ]
    },
    {
     "name": "stdout",
     "output_type": "stream",
     "text": [
      "[✓] Vẽ: /home/runner/work/Automatic-Anomaly-Detection-System/Automatic-Anomaly-Detection-System/out/plots/scatter_aqi_vs_windspeed_Đà Nẵng.png\n",
      "[✓] Ghi: /home/runner/work/Automatic-Anomaly-Detection-System/Automatic-Anomaly-Detection-System/result_summary/aqi_vs_humidity_correlation.csv\n"
     ]
    },
    {
     "name": "stdout",
     "output_type": "stream",
     "text": [
      "[✓] Vẽ: /home/runner/work/Automatic-Anomaly-Detection-System/Automatic-Anomaly-Detection-System/out/plots/scatter_aqi_vs_humidity_ALL.png\n",
      "[✓] Vẽ: /home/runner/work/Automatic-Anomaly-Detection-System/Automatic-Anomaly-Detection-System/out/plots/scatter_aqi_vs_humidity_Cần Thơ.png\n"
     ]
    },
    {
     "name": "stdout",
     "output_type": "stream",
     "text": [
      "[✓] Vẽ: /home/runner/work/Automatic-Anomaly-Detection-System/Automatic-Anomaly-Detection-System/out/plots/scatter_aqi_vs_humidity_Huế.png\n",
      "[✓] Vẽ: /home/runner/work/Automatic-Anomaly-Detection-System/Automatic-Anomaly-Detection-System/out/plots/scatter_aqi_vs_humidity_Hà Nội.png\n"
     ]
    },
    {
     "name": "stdout",
     "output_type": "stream",
     "text": [
      "[✓] Vẽ: /home/runner/work/Automatic-Anomaly-Detection-System/Automatic-Anomaly-Detection-System/out/plots/scatter_aqi_vs_humidity_Hải Phòng.png\n",
      "[✓] Vẽ: /home/runner/work/Automatic-Anomaly-Detection-System/Automatic-Anomaly-Detection-System/out/plots/scatter_aqi_vs_humidity_Hồ Chí Minh.png\n"
     ]
    },
    {
     "name": "stdout",
     "output_type": "stream",
     "text": [
      "[✓] Vẽ: /home/runner/work/Automatic-Anomaly-Detection-System/Automatic-Anomaly-Detection-System/out/plots/scatter_aqi_vs_humidity_Nha Trang.png\n",
      "[✓] Vẽ: /home/runner/work/Automatic-Anomaly-Detection-System/Automatic-Anomaly-Detection-System/out/plots/scatter_aqi_vs_humidity_Vinh.png\n"
     ]
    },
    {
     "name": "stdout",
     "output_type": "stream",
     "text": [
      "[✓] Vẽ: /home/runner/work/Automatic-Anomaly-Detection-System/Automatic-Anomaly-Detection-System/out/plots/scatter_aqi_vs_humidity_Đà Nẵng.png\n"
     ]
    }
   ],
   "source": [
    "from scipy.stats import pearsonr, spearmanr\n",
    "\n",
    "def safe_corr(x, y, method=\"pearson\"):\n",
    "    x = np.asarray(x, dtype=float); y = np.asarray(y, dtype=float)\n",
    "    mask = ~(np.isnan(x) | np.isnan(y))\n",
    "    x = x[mask]; y = y[mask]\n",
    "    if len(x) < 3: return np.nan, np.nan\n",
    "    try:\n",
    "        return pearsonr(x, y) if method==\"pearson\" else spearmanr(x, y)\n",
    "    except Exception:\n",
    "        return np.nan, np.nan\n",
    "\n",
    "def corr_by_city(df: pd.DataFrame, feature_col: str, label: str, out_csv_name: str, all_plot_name: str, per_city_prefix: str):\n",
    "    if feature_col not in df.columns:\n",
    "        print(f\"[!] Thiếu cột {feature_col}, bỏ qua.\")\n",
    "        return\n",
    "    gdf = df.dropna(subset=[\"aqi\", feature_col]).copy()\n",
    "    if gdf.empty:\n",
    "        print(f\"[!] Không có dữ liệu hợp lệ cho {label}, bỏ qua.\")\n",
    "        return\n",
    "\n",
    "    rows = []\n",
    "    for city, g in gdf.groupby(\"city\"):\n",
    "        r_p, p_p = safe_corr(g[\"aqi\"], g[feature_col], \"pearson\")\n",
    "        r_s, p_s = safe_corr(g[\"aqi\"], g[feature_col], \"spearman\")\n",
    "        rows.append({\n",
    "            \"city\": city,\n",
    "            \"pearson_r\": round(r_p, 4) if pd.notna(r_p) else np.nan,\n",
    "            \"pearson_p\": p_p,\n",
    "            \"spearman_rho\": round(r_s, 4) if pd.notna(r_s) else np.nan,\n",
    "            \"spearman_p\": p_s,\n",
    "            \"n\": len(g)\n",
    "        })\n",
    "    # Tổng thể\n",
    "    r_p_all, p_p_all = safe_corr(gdf[\"aqi\"], gdf[feature_col], \"pearson\")\n",
    "    r_s_all, p_s_all = safe_corr(gdf[\"aqi\"], gdf[feature_col], \"spearman\")\n",
    "    rows.append({\n",
    "        \"city\": \"__ALL__\",\n",
    "        \"pearson_r\": round(r_p_all, 4) if pd.notna(r_p_all) else np.nan,\n",
    "        \"pearson_p\": p_p_all,\n",
    "        \"spearman_rho\": round(r_s_all, 4) if pd.notna(r_s_all) else np.nan,\n",
    "        \"spearman_p\": p_s_all,\n",
    "        \"n\": len(gdf)\n",
    "    })\n",
    "    table = pd.DataFrame(rows).sort_values(\"city\").reset_index(drop=True)\n",
    "    out_csv = OUT_SUMMARY_DIR / out_csv_name\n",
    "    table.to_csv(out_csv, index=False, encoding=\"utf-8-sig\")\n",
    "    print(\"[✓] Ghi:\", out_csv)\n",
    "\n",
    "    # Scatter + Fit (all)\n",
    "    plt.figure(figsize=(8,6))\n",
    "    x = gdf[feature_col].values; y = gdf[\"aqi\"].values\n",
    "    plt.scatter(x, y, alpha=0.4, s=15)\n",
    "    plt.title(f\"Tương quan AQI vs {label} (tất cả tỉnh)\")\n",
    "    plt.xlabel(label); plt.ylabel(\"AQI\")\n",
    "    if len(x) >= 2 and np.isfinite(x).any() and np.isfinite(y).any():\n",
    "        # Đường hồi quy\n",
    "        mask = ~(np.isnan(x) | np.isnan(y))\n",
    "        if mask.sum() >= 2:\n",
    "            a, b = np.polyfit(x[mask], y[mask], deg=1)\n",
    "            xs = np.linspace(np.nanmin(x), np.nanmax(x), 100)\n",
    "            ys = a*xs + b\n",
    "            plt.plot(xs, ys)\n",
    "    plt.tight_layout()\n",
    "    out_all = OUT_PLOTS_DIR / all_plot_name\n",
    "    plt.savefig(out_all, dpi=150); plt.close()\n",
    "    print(\"[✓] Vẽ:\", out_all)\n",
    "\n",
    "    # Mỗi tỉnh\n",
    "    for city, g in gdf.groupby(\"city\"):\n",
    "        plt.figure(figsize=(7,5))\n",
    "        plt.scatter(g[feature_col], g[\"aqi\"], alpha=0.5, s=15)\n",
    "        plt.title(f\"AQI vs {label} – {city}\")\n",
    "        plt.xlabel(label); plt.ylabel(\"AQI\")\n",
    "        if len(g) >= 2:\n",
    "            xx = g[feature_col].values; yy = g[\"aqi\"].values\n",
    "            m = ~(np.isnan(xx) | np.isnan(yy))\n",
    "            if m.sum() >= 2:\n",
    "                a, b = np.polyfit(xx[m], yy[m], deg=1)\n",
    "                xs = np.linspace(np.nanmin(xx[m]), np.nanmax(xx[m]), 100)\n",
    "                ys = a*xs + b\n",
    "                plt.plot(xs, ys)\n",
    "        plt.tight_layout()\n",
    "        safe_city = str(city).replace(\"/\", \"_\").replace(\"\\\\\", \"_\").replace(\":\", \"_\")\n",
    "        out_city = OUT_PLOTS_DIR / f\"{per_city_prefix}_{safe_city}.png\"\n",
    "        plt.savefig(out_city, dpi=150); plt.close()\n",
    "        print(\"[✓] Vẽ:\", out_city)\n",
    "\n",
    "# Wind\n",
    "if HAS_WIND:\n",
    "    corr_by_city(df_full, \"wind_speed_num\",\n",
    "                 label=\"Wind Speed (km/h)\",\n",
    "                 out_csv_name=\"aqi_vs_windspeed_correlation.csv\",\n",
    "                 all_plot_name=\"scatter_aqi_vs_windspeed_ALL.png\",\n",
    "                 per_city_prefix=\"scatter_aqi_vs_windspeed\")\n",
    "else:\n",
    "    print(\"[i] Bỏ qua phân tích Wind: dataset không có wind_speed.\")\n",
    "\n",
    "# Humidity\n",
    "if HAS_HUM:\n",
    "    corr_by_city(df_full, \"humidity_num\",\n",
    "                 label=\"Humidity (%)\",\n",
    "                 out_csv_name=\"aqi_vs_humidity_correlation.csv\",\n",
    "                 all_plot_name=\"scatter_aqi_vs_humidity_ALL.png\",\n",
    "                 per_city_prefix=\"scatter_aqi_vs_humidity\")\n",
    "else:\n",
    "    print(\"[i] Bỏ qua phân tích Humidity: dataset không có humidity.\")"
   ]
  },
  {
   "cell_type": "markdown",
   "id": "168279a5",
   "metadata": {},
   "source": [
    "# 3. AQI TRUNG BÌNH THEO LOẠI THỜI TIẾT VÀ TỈNH/THÀNH PHỐ"
   ]
  },
  {
   "cell_type": "code",
   "execution_count": 4,
   "id": "2bad6e5e",
   "metadata": {
    "execution": {
     "iopub.execute_input": "2025-08-21T15:29:58.109176Z",
     "iopub.status.busy": "2025-08-21T15:29:58.108969Z",
     "iopub.status.idle": "2025-08-21T15:29:58.407758Z",
     "shell.execute_reply": "2025-08-21T15:29:58.407071Z"
    }
   },
   "outputs": [
    {
     "name": "stdout",
     "output_type": "stream",
     "text": [
      "[✓] Ghi: /home/runner/work/Automatic-Anomaly-Detection-System/Automatic-Anomaly-Detection-System/result_summary/aqi_by_weather_and_city.csv\n"
     ]
    },
    {
     "name": "stdout",
     "output_type": "stream",
     "text": [
      "[✓] Vẽ: /home/runner/work/Automatic-Anomaly-Detection-System/Automatic-Anomaly-Detection-System/out/plots/aqi_by_weather_and_city.png\n"
     ]
    }
   ],
   "source": [
    "if HAS_WEATHER_ICON:\n",
    "    df_weather = df_full[df_full[\"weather_icon\"].notna()].copy()\n",
    "    df_weather[\"weather_type\"] = df_weather[\"weather_icon\"].apply(map_weather_icon)\n",
    "\n",
    "    weather_stats = (\n",
    "        df_weather.groupby([\"city\",\"weather_type\"])[\"aqi\"]\n",
    "                  .mean()\n",
    "                  .reset_index()\n",
    "                  .rename(columns={\"aqi\":\"mean_aqi\"})\n",
    "    )\n",
    "    weather_stats[\"mean_aqi\"] = weather_stats[\"mean_aqi\"].round(2)\n",
    "    out_csv = OUT_SUMMARY_DIR / \"aqi_by_weather_and_city.csv\"\n",
    "    weather_stats.to_csv(out_csv, index=False, encoding=\"utf-8-sig\")\n",
    "    print(\"[✓] Ghi:\", out_csv)\n",
    "\n",
    "    # Vẽ group bar: weather_type là trục X, mỗi city là 1 series\n",
    "    pivot_w = weather_stats.pivot(index=\"weather_type\", columns=\"city\", values=\"mean_aqi\").fillna(0)\n",
    "    plt.figure(figsize=(14,6))\n",
    "    pivot_w.plot(kind=\"bar\")\n",
    "    plt.title(\"AQI trung bình theo loại thời tiết và tỉnh/thành phố\")\n",
    "    plt.xlabel(\"Loại thời tiết\"); plt.ylabel(\"AQI trung bình\")\n",
    "    plt.xticks(rotation=30, ha=\"right\")\n",
    "    plt.tight_layout()\n",
    "    out_plot = OUT_PLOTS_DIR / \"aqi_by_weather_and_city.png\"\n",
    "    plt.savefig(out_plot, dpi=150); plt.close()\n",
    "    print(\"[✓] Vẽ:\", out_plot)\n",
    "else:\n",
    "    print(\"[i] Bỏ qua phần thời tiết: dataset không có weather_icon.\")"
   ]
  }
 ],
 "metadata": {
  "kernelspec": {
   "display_name": "Python 3",
   "language": "python",
   "name": "python3"
  },
  "language_info": {
   "codemirror_mode": {
    "name": "ipython",
    "version": 3
   },
   "file_extension": ".py",
   "mimetype": "text/x-python",
   "name": "python",
   "nbconvert_exporter": "python",
   "pygments_lexer": "ipython3",
   "version": "3.10.18"
  }
 },
 "nbformat": 4,
 "nbformat_minor": 5
}
