{
 "cells": [
  {
   "cell_type": "markdown",
   "id": "091303ad",
   "metadata": {},
   "source": [
    "### PHÁT HIỆN CÁC ĐIỂM BẤT THƯỜNG"
   ]
  },
  {
   "cell_type": "code",
   "execution_count": 1,
   "id": "76ca1a76",
   "metadata": {
    "execution": {
     "iopub.execute_input": "2025-08-19T21:28:18.624755Z",
     "iopub.status.busy": "2025-08-19T21:28:18.624572Z",
     "iopub.status.idle": "2025-08-19T21:28:21.543932Z",
     "shell.execute_reply": "2025-08-19T21:28:21.543159Z"
    }
   },
   "outputs": [],
   "source": [
    "#Import thư viện\n",
    "import pandas as pd\n",
    "import numpy as np\n",
    "import os\n",
    "import glob\n",
    "from sklearn.ensemble import IsolationForest\n",
    "import matplotlib.pyplot as plt\n",
    "import seaborn as sns\n",
    "from sklearn.metrics import confusion_matrix"
   ]
  },
  {
   "cell_type": "markdown",
   "id": "c4510a79",
   "metadata": {},
   "source": [
    "#### Phương pháp 1: Dựa trên thống kê(Z_score)"
   ]
  },
  {
   "cell_type": "code",
   "execution_count": 2,
   "id": "d4f63c51",
   "metadata": {
    "execution": {
     "iopub.execute_input": "2025-08-19T21:28:21.546553Z",
     "iopub.status.busy": "2025-08-19T21:28:21.546212Z",
     "iopub.status.idle": "2025-08-19T21:28:21.947120Z",
     "shell.execute_reply": "2025-08-19T21:28:21.946373Z"
    }
   },
   "outputs": [
    {
     "name": "stdout",
     "output_type": "stream",
     "text": [
      "Can_Tho: Phát hiện 48 điểm bất thường AQI, 36 điểm bất thường gió.\n",
      "Da_Nang: Phát hiện 66 điểm bất thường AQI, 36 điểm bất thường gió.\n",
      "Hai_Phong: Phát hiện 8 điểm bất thường AQI, 34 điểm bất thường gió.\n",
      "Ha_Noi: Phát hiện 5 điểm bất thường AQI, 24 điểm bất thường gió.\n",
      "Ho_Chi_Minh: Phát hiện 85 điểm bất thường AQI, 35 điểm bất thường gió.\n"
     ]
    },
    {
     "name": "stdout",
     "output_type": "stream",
     "text": [
      "Hue: Phát hiện 82 điểm bất thường AQI, 62 điểm bất thường gió.\n",
      "Nha_Trang: Phát hiện 201 điểm bất thường AQI, 32 điểm bất thường gió.\n",
      "Vinh: Phát hiện 27 điểm bất thường AQI, 37 điểm bất thường gió.\n"
     ]
    }
   ],
   "source": [
    "import pandas as pd\n",
    "import os\n",
    "\n",
    "def detect_anomalies_by_zscore(csv_path, city_name, threshold_aqi=3.0, threshold_wind=3.0):\n",
    "    df = pd.read_csv(csv_path)\n",
    "\n",
    "    # Tính Z-score cho AQI\n",
    "    aqi_mean = df[\"aqi\"].mean()\n",
    "    aqi_std = df[\"aqi\"].std()\n",
    "    df[\"zscore_aqi\"] = (df[\"aqi\"] - aqi_mean) / aqi_std\n",
    "    df[\"zscore_flag_aqi\"] = df[\"zscore_aqi\"].abs().apply(lambda z: -1 if z > threshold_aqi else 0)\n",
    "\n",
    "    # Tính Z-score cho Wind\n",
    "    df[\"wind_speed_clean\"] = df[\"wind_speed\"].astype(str).str.extract(r\"([\\d.]+)\").astype(float)\n",
    "    wind_mean = df[\"wind_speed_clean\"].mean()\n",
    "    wind_std = df[\"wind_speed_clean\"].std()\n",
    "    df[\"zscore_wind\"] = (df[\"wind_speed_clean\"] - wind_mean) / wind_std\n",
    "    df[\"zscore_flag_wind\"] = df[\"zscore_wind\"].abs().apply(lambda z: -1 if z > threshold_wind else 0)\n",
    "\n",
    "    # Giữ lại các cột cần thiết để lưu file\n",
    "    keep_cols = [col for col in df.columns if col not in [\"wind_speed_clean\"]]\n",
    "    df_clean = df[keep_cols]\n",
    "\n",
    "    # Lưu kết quả\n",
    "    base_dir = os.path.abspath(os.path.join(os.getcwd(), \"..\"))  # Từ thư mục hiện tại → lên thư mục gốc Anomaly-Detection-System\n",
    "    output_dir = os.path.join(base_dir, \"result_anomaly\", \"z_score\")  # Tạo đường dẫn tới thư mục z_score\n",
    "    os.makedirs(output_dir, exist_ok=True)\n",
    "\n",
    "    output_path = os.path.join(output_dir, f\"{city_name.lower().replace(' ', '_')}_zscore.csv\")  # Tên file theo tên thành phố\n",
    "    df_clean.to_csv(output_path, index=False, encoding='utf-8-sig')\n",
    "\n",
    "\n",
    "    # Đếm số điểm bất thường\n",
    "    aqi_anomalies = (df_clean[\"zscore_flag_aqi\"] == -1).sum()\n",
    "    wind_anomalies = (df_clean[\"zscore_flag_wind\"] == -1).sum()\n",
    "\n",
    "    print(f\"{city_name}: Phát hiện {aqi_anomalies} điểm bất thường AQI, {wind_anomalies} điểm bất thường gió.\")\n",
    "\n",
    "    return df_clean\n",
    "\n",
    "\n",
    "if __name__ == \"__main__\":\n",
    "    city_file_map = {\n",
    "        \"Can_Tho\": \"../result/aqi-can-tho_2025.csv\",\n",
    "        \"Da_Nang\": \"../result/aqi-da-nang_2025.csv\",\n",
    "        \"Hai_Phong\": \"../result/aqi-hai-phong_2025.csv\",\n",
    "        \"Ha_Noi\": \"../result/aqi-hanoi_2025.csv\",\n",
    "        \"Ho_Chi_Minh\": \"../result/aqi-ho-chi-minh-city_2025.csv\",\n",
    "        \"Hue\": \"../result/aqi-hue_2025.csv\",\n",
    "        \"Nha_Trang\": \"../result/aqi-nha-trang_2025.csv\",\n",
    "        \"Vinh\": \"../result/aqi-vinh_2025.csv\",\n",
    "    }\n",
    "\n",
    "    for city, file_path in city_file_map.items():\n",
    "        if os.path.exists(file_path):\n",
    "            detect_anomalies_by_zscore(file_path, city)\n",
    "        else:\n",
    "            print(f\"Không tìm thấy file: {file_path} → Bỏ qua {city}\")"
   ]
  },
  {
   "cell_type": "markdown",
   "id": "8c3765db",
   "metadata": {},
   "source": [
    "#### Phương pháp 2: Dựa trên học máy(Isolation Forest)"
   ]
  },
  {
   "cell_type": "code",
   "execution_count": 3,
   "id": "4f60b0f8",
   "metadata": {
    "execution": {
     "iopub.execute_input": "2025-08-19T21:28:21.949338Z",
     "iopub.status.busy": "2025-08-19T21:28:21.949120Z",
     "iopub.status.idle": "2025-08-19T21:28:23.466585Z",
     "shell.execute_reply": "2025-08-19T21:28:23.465934Z"
    }
   },
   "outputs": [
    {
     "name": "stdout",
     "output_type": "stream",
     "text": [
      "Can_Tho: Phát hiện 402 điểm bất thường.\n",
      "Da_Nang: Phát hiện 397 điểm bất thường.\n"
     ]
    },
    {
     "name": "stdout",
     "output_type": "stream",
     "text": [
      "Hai_Phong: Phát hiện 465 điểm bất thường.\n",
      "Ha_Noi: Phát hiện 408 điểm bất thường.\n"
     ]
    },
    {
     "name": "stdout",
     "output_type": "stream",
     "text": [
      "Ho_Chi_Minh: Phát hiện 356 điểm bất thường.\n",
      "Hue: Phát hiện 345 điểm bất thường.\n"
     ]
    },
    {
     "name": "stdout",
     "output_type": "stream",
     "text": [
      "Nha_Trang: Phát hiện 232 điểm bất thường.\n",
      "Vinh: Phát hiện 466 điểm bất thường.\n"
     ]
    }
   ],
   "source": [
    "import pandas as pd\n",
    "import numpy as np\n",
    "import os\n",
    "from sklearn.ensemble import IsolationForest\n",
    "\n",
    "def detect_anomalies(city_data_path, city_name):\n",
    "    # 1. Đọc dữ liệu\n",
    "    try:\n",
    "        df = pd.read_csv(city_data_path)\n",
    "    except FileNotFoundError:\n",
    "        print(f\"Không tìm thấy file {city_data_path}. Bỏ qua {city_name}.\")\n",
    "        return\n",
    "    except Exception as e:\n",
    "        print(f\"Lỗi đọc file {city_data_path}: {e}\")\n",
    "        return\n",
    "\n",
    "    # 2. Tiền xử lý\n",
    "    if 'AQI' not in df.columns and 'aqi' in df.columns:\n",
    "        df.rename(columns={'aqi': 'AQI'}, inplace=True)\n",
    "\n",
    "    if 'wind_speed' in df.columns:\n",
    "        df['wind_speed'] = df['wind_speed'].astype(str).str.replace(' km/h', '').replace('', np.nan)\n",
    "        df['wind_speed'] = pd.to_numeric(df['wind_speed'], errors='coerce')\n",
    "\n",
    "    if 'humidity' in df.columns:\n",
    "        df['humidity'] = df['humidity'].astype(str).str.replace('%', '').replace('', np.nan)\n",
    "        df['humidity'] = pd.to_numeric(df['humidity'], errors='coerce')\n",
    "\n",
    "    if 'AQI' not in df.columns:\n",
    "        print(f\"Dữ liệu {city_name} không có cột AQI. Bỏ qua.\")\n",
    "        return\n",
    "\n",
    "    # 3. Chọn dữ liệu đầu vào\n",
    "    if 'wind_speed' not in df.columns or 'humidity' not in df.columns:\n",
    "        X = df[['AQI']].values\n",
    "    else:\n",
    "        X = df[['AQI', 'wind_speed', 'humidity']].values\n",
    "\n",
    "    mask = ~np.any(np.isnan(X), axis=1)\n",
    "    X = X[mask]\n",
    "    df = df[mask].reset_index(drop=True)\n",
    "\n",
    "    if len(X) == 0:\n",
    "        print(f\"Dữ liệu {city_name} bị trống sau xử lý.\")\n",
    "        return\n",
    "\n",
    "    # 4. Xác định contamination\n",
    "    aqi_std = df['AQI'].std()\n",
    "    wind_std = df['wind_speed'].std()\n",
    "    hum_std = df['humidity'].std()\n",
    "    combined_std = 0.5 * aqi_std + 0.25 * wind_std + 0.25 * hum_std\n",
    "    contamination = min(0.1, max(0.01, combined_std / 200))  # Giới hạn từ 1% đến 10%\n",
    "\n",
    "    # 5. Mô hình Isolation Forest\n",
    "    model = IsolationForest(contamination=contamination, random_state=42)\n",
    "    predictions = model.fit_predict(X)\n",
    "    df['anomaly'] = predictions\n",
    "\n",
    "    # 6. Kết quả\n",
    "    anomalies = df[df['anomaly'] == -1]\n",
    "    print(f\"{city_name}: Phát hiện {len(anomalies)} điểm bất thường.\")\n",
    "\n",
    "    # 7. Lưu kết quả bằng đường dẫn tương đối\n",
    "    base_dir = os.path.abspath(os.path.join(os.getcwd(), \"..\"))  # Từ detection → Anomaly-Detection-System\n",
    "    output_dir = os.path.join(base_dir, \"result_anomaly\", \"isolation_forest\")\n",
    "    os.makedirs(output_dir, exist_ok=True)\n",
    "\n",
    "    output_file = os.path.join(output_dir, f\"anomalies_{city_name.lower().replace(' ', '_')}_2025.csv\")\n",
    "    df.to_csv(output_file, index=False, encoding='utf-8-sig')\n",
    "cities = {\n",
    "    \"Can_Tho\": \"../result/aqi-can-tho_2025.csv\",\n",
    "    \"Da_Nang\": \"../result/aqi-da-nang_2025.csv\",\n",
    "    \"Hai_Phong\": \"../result/aqi-hai-phong_2025.csv\",\n",
    "    \"Ha_Noi\": \"../result/aqi-hanoi_2025.csv\",\n",
    "    \"Ho_Chi_Minh\": \"../result/aqi-ho-chi-minh-city_2025.csv\",\n",
    "    \"Hue\": \"../result/aqi-hue_2025.csv\",\n",
    "    \"Nha_Trang\": \"../result/aqi-nha-trang_2025.csv\",\n",
    "    \"Vinh\": \"../result/aqi-vinh_2025.csv\",\n",
    "}\n",
    "\n",
    "for city_name, file_path in cities.items():\n",
    "    detect_anomalies(file_path, city_name)"
   ]
  },
  {
   "cell_type": "code",
   "execution_count": 4,
   "id": "401dbb17",
   "metadata": {
    "execution": {
     "iopub.execute_input": "2025-08-19T21:28:23.468948Z",
     "iopub.status.busy": "2025-08-19T21:28:23.468710Z",
     "iopub.status.idle": "2025-08-19T21:28:23.715448Z",
     "shell.execute_reply": "2025-08-19T21:28:23.714691Z"
    }
   },
   "outputs": [
    {
     "data": {
      "image/png": "[encoded data removed]",
      "text/plain": [
       "<Figure size 700x600 with 1 Axes>"
      ]
     },
     "metadata": {},
     "output_type": "display_data"
    }
   ],
   "source": [
    "# Danh sách các file theo thành phố\n",
    "cities = [\n",
    "    (\"Can Tho\", \"../result_anomaly/z_score/can_tho_zscore.csv\", \"../result_anomaly/isolation_forest/anomalies_can_tho_2025.csv\"),\n",
    "    (\"Hai Phong\", \"../result_anomaly/z_score/hai_phong_zscore.csv\", \"../result_anomaly/isolation_forest/anomalies_hai_phong_2025.csv\"),\n",
    "    (\"Ho Chi Minh\", \"../result_anomaly/z_score/ho_chi_minh_zscore.csv\", \"../result_anomaly/isolation_forest/anomalies_ho_chi_minh_2025.csv\"),\n",
    "    (\"Vinh\", \"../result_anomaly/z_score/vinh_zscore.csv\", \"../result_anomaly/isolation_forest/anomalies_vinh_2025.csv\"),\n",
    "    (\"Nha Trang\", \"../result_anomaly/z_score/nha_trang_zscore.csv\", \"../result_anomaly/isolation_forest/anomalies_nha_trang_2025.csv\"),\n",
    "    (\"Da Nang\", \"../result_anomaly/z_score/da_nang_zscore.csv\", \"../result_anomaly/isolation_forest/anomalies_da_nang_2025.csv\"),\n",
    "    (\"Ha Noi\", \"../result_anomaly/z_score/ha_noi_zscore.csv\", \"../result_anomaly/isolation_forest/anomalies_ha_noi_2025.csv\"),\n",
    "    (\"Hue\", \"../result_anomaly/z_score/hue_zscore.csv\", \"../result_anomaly/isolation_forest/anomalies_hue_2025.csv\"),\n",
    "]\n",
    "\n",
    "# Gộp nhãn các thành phố\n",
    "zscore_labels_all = []\n",
    "iforest_labels_all = []\n",
    "\n",
    "for _, zscore_path, iforest_path in cities:\n",
    "    if os.path.exists(zscore_path) and os.path.exists(iforest_path):\n",
    "        df_z = pd.read_csv(zscore_path)\n",
    "        df_if = pd.read_csv(iforest_path)\n",
    "\n",
    "        zscore_labels = ((df_z['zscore_flag_aqi'] == -1) | (df_z['zscore_flag_wind'] == -1)).astype(int)\n",
    "        iforest_labels = (df_if['anomaly'] == -1).astype(int)\n",
    "\n",
    "        min_len = min(len(zscore_labels), len(iforest_labels))\n",
    "        zscore_labels_all.extend(zscore_labels[:min_len])\n",
    "        iforest_labels_all.extend(iforest_labels[:min_len])\n",
    "\n",
    "# Tính confusion matrix\n",
    "cm = confusion_matrix(zscore_labels_all, iforest_labels_all, labels=[1, 0])\n",
    "\n",
    "# Gán nhãn rõ ràng: TP, FN, FP, TN\n",
    "labels = [\"Actual Anomaly\", \"Actual Normal\"]\n",
    "columns = [\"Predicted Anomaly\", \"Predicted Normal\"]\n",
    "df_cm = pd.DataFrame(cm, index=labels, columns=columns)\n",
    "\n",
    "# Tạo chú thích rõ ràng\n",
    "annot_labels = [\n",
    "    [f\"TP: {cm[0][0]}\", f\"FN: {cm[0][1]}\"],\n",
    "    [f\"FP: {cm[1][0]}\", f\"TN: {cm[1][1]}\"]\n",
    "]\n",
    "\n",
    "# Vẽ heatmap dễ hiểu\n",
    "plt.figure(figsize=(7, 6))\n",
    "sns.heatmap(cm, annot=annot_labels, fmt='', cmap='YlGnBu', xticklabels=columns, yticklabels=labels, cbar=False)\n",
    "plt.title(\"Confusion Matrix: Z-Score vs Isolation Forest\", fontsize=14)\n",
    "plt.ylabel(\"Ground Truth (Z-Score)\", fontsize=12)\n",
    "plt.xlabel(\"Prediction (Isolation Forest)\", fontsize=12)\n",
    "plt.tight_layout()\n",
    "plt.show()"
   ]
  },
  {
   "cell_type": "code",
   "execution_count": 5,
   "id": "501d3111",
   "metadata": {
    "execution": {
     "iopub.execute_input": "2025-08-19T21:28:23.717602Z",
     "iopub.status.busy": "2025-08-19T21:28:23.717374Z",
     "iopub.status.idle": "2025-08-19T21:28:23.721183Z",
     "shell.execute_reply": "2025-08-19T21:28:23.720645Z"
    }
   },
   "outputs": [],
   "source": [
    "def get_latest_files(result_dir, pattern=\"aqi_*.csv\"):\n",
    "    return glob.glob(os.path.join(result_dir, pattern))\n",
    "\n",
    "def extract_city_name(file_path):\n",
    "    base = os.path.basename(file_path)\n",
    "    parts = base.replace(\".csv\", \"\").split(\"_\")\n",
    "    return \"_\".join(parts[1:-1])  # Loại bỏ 'aqi' và '2025'"
   ]
  },
  {
   "cell_type": "code",
   "execution_count": 6,
   "id": "569c6864",
   "metadata": {
    "execution": {
     "iopub.execute_input": "2025-08-19T21:28:23.723083Z",
     "iopub.status.busy": "2025-08-19T21:28:23.722902Z",
     "iopub.status.idle": "2025-08-19T21:28:23.726827Z",
     "shell.execute_reply": "2025-08-19T21:28:23.726231Z"
    }
   },
   "outputs": [],
   "source": [
    "result_dir = os.path.join(os.getcwd(), \"result\")\n",
    "latest_files = get_latest_files(result_dir)\n",
    "\n",
    "for file_path in latest_files:\n",
    "    city_name = extract_city_name(file_path).replace(\"_\", \" \").title()\n",
    "    print(f\"\\nPhân tích dữ liệu: {city_name}\")\n",
    "    detect_anomalies_by_zscore(file_path, city_name)\n",
    "    detect_anomalies(file_path, city_name)"
   ]
  }
 ],
 "metadata": {
  "kernelspec": {
   "display_name": "analyst",
   "language": "python",
   "name": "python3"
  },
  "language_info": {
   "codemirror_mode": {
    "name": "ipython",
    "version": 3
   },
   "file_extension": ".py",
   "mimetype": "text/x-python",
   "name": "python",
   "nbconvert_exporter": "python",
   "pygments_lexer": "ipython3",
   "version": "3.10.18"
  }
 },
 "nbformat": 4,
 "nbformat_minor": 5
}
